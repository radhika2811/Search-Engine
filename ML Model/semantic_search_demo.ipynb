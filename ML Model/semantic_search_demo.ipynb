{
 "cells": [
  {
   "cell_type": "code",
   "execution_count": 2,
   "id": "85d7caff",
   "metadata": {},
   "outputs": [],
   "source": [
    "# --- Step 1: Imports ---\n",
    "import PyPDF2\n",
    "import numpy as np\n",
    "from sentence_transformers import SentenceTransformer\n",
    "from sklearn.metrics.pairwise import cosine_similarity"
   ]
  },
  {
   "cell_type": "code",
   "execution_count": 3,
   "id": "40295695",
   "metadata": {},
   "outputs": [],
   "source": [
    "# Load text from PDF\n",
    "def load_text_from_pdf(file_path):\n",
    "    text = \"\"\n",
    "    with open(file_path, \"rb\") as f:\n",
    "        reader = PyPDF2.PdfReader(f)\n",
    "        for page in reader.pages:\n",
    "            if page.extract_text():\n",
    "                text += page.extract_text() + \"\\n\"\n",
    "    return text\n",
    "\n",
    "# Split into smaller chunks\n",
    "def chunk_text(text, chunk_size=300):\n",
    "    words = text.split()\n",
    "    return [\" \".join(words[i:i+chunk_size]) for i in range(0, len(words), chunk_size)]\n",
    "\n",
    "# Build embeddings\n",
    "def build_index(chunks, model):\n",
    "    embeddings = model.encode(chunks)\n",
    "    return np.array(embeddings), chunks\n",
    "\n",
    "# Search query\n",
    "def search(query, embeddings, chunks, model, top_k=3):\n",
    "    query_vec = model.encode([query])\n",
    "    sims = cosine_similarity(query_vec, embeddings)[0]\n",
    "    top_indices = sims.argsort()[-top_k:][::-1]\n",
    "    results = [(chunks[i], sims[i]) for i in top_indices]\n",
    "    return results"
   ]
  },
  {
   "cell_type": "code",
   "execution_count": 5,
   "id": "1f36008d",
   "metadata": {},
   "outputs": [
    {
     "name": "stdout",
     "output_type": "stream",
     "text": [
      "✅ Model loaded successfully!\n"
     ]
    }
   ],
   "source": [
    "# Load sentence embedding model (downloaded once, cached locally afterwards)\n",
    "model = SentenceTransformer(\"all-MiniLM-L6-v2\")\n",
    "print(\"✅ Model loaded successfully!\")"
   ]
  },
  {
   "cell_type": "code",
   "execution_count": 7,
   "id": "e5b404d4",
   "metadata": {},
   "outputs": [
    {
     "name": "stdout",
     "output_type": "stream",
     "text": [
      "✅ Indexed 1 chunks from document.\n"
     ]
    }
   ],
   "source": [
    "# Put a sample PDF in your app/ folder, e.g., app/sample.pdf\n",
    "file_path = r\"E:\\Radhika\\radhika-intern\\testpdf.pdf\"\n",
    "\n",
    "text = load_text_from_pdf(file_path)\n",
    "chunks = chunk_text(text)\n",
    "\n",
    "embeddings, chunks = build_index(chunks, model)\n",
    "\n",
    "print(f\"✅ Indexed {len(chunks)} chunks from document.\")"
   ]
  },
  {
   "cell_type": "code",
   "execution_count": 9,
   "id": "2b248d9f",
   "metadata": {},
   "outputs": [
    {
     "name": "stderr",
     "output_type": "stream",
     "text": [
      "Device set to use cpu\n"
     ]
    },
    {
     "name": "stdout",
     "output_type": "stream",
     "text": [
      "🔎 Query: What is the main topic of this document?\n",
      "\n",
      "Result 1 (Score 0.0830):\n",
      "Once upon a time in a small village, there was a boy named Sam who loved to explor e. Every day after school, Sam would go to the nearb y forest to disco ver new things. One afternoon, while walking along a narrow path, he found a shiny , golden key half-buried under some leaves. Curious, he picked ...\n"
     ]
    },
    {
     "name": "stderr",
     "output_type": "stream",
     "text": [
      "Both `max_new_tokens` (=256) and `max_length`(=40) seem to have been set. `max_new_tokens` will take precedence. Please refer to the documentation for more information. (https://huggingface.co/docs/transformers/main/en/main_classes/text_generation)\n"
     ]
    },
    {
     "name": "stdout",
     "output_type": "stream",
     "text": [
      "\n",
      "📝 Summary Answer:\n",
      "a boy named Sam explored e every day after school, he would go to the nearb y forest to explore new things . he found a shiny golden key half-buried under some leaves . after walking for a while he came across an old wooden door attached .\n"
     ]
    }
   ],
   "source": [
    "from transformers import pipeline\n",
    "\n",
    "summarizer = pipeline(\"summarization\", model=\"t5-small\")\n",
    "\n",
    "query = \"What is the main topic of this document?\"\n",
    "\n",
    "results = search(query, embeddings, chunks, model)\n",
    "\n",
    "print(\"🔎 Query:\", query)\n",
    "for idx, (chunk, score) in enumerate(results, 1):\n",
    "    print(f\"\\nResult {idx} (Score {score:.4f}):\\n{chunk[:300]}...\")\n",
    "\n",
    "# Extract only the text part from the first tuple and truncate\n",
    "top_chunk = results[0][0]  # extract chunk text properly\n",
    "context_text = top_chunk[:500]\n",
    "\n",
    "answer = summarizer(context_text, max_length=40, min_length=10, do_sample=False)[0]['summary_text']\n",
    "\n",
    "print(\"\\n📝 Summary Answer:\")\n",
    "print(answer)\n"
   ]
  },
  {
   "cell_type": "code",
   "execution_count": 10,
   "id": "40e9ebe0",
   "metadata": {},
   "outputs": [],
   "source": [
    "def handle_query(query, embeddings, chunks, model, mode=\"search\"):\n",
    "    results = search(query, embeddings, chunks, model)\n",
    "    top_chunk = results[0][0]  # best text match\n",
    "    \n",
    "    if mode == \"search\":\n",
    "        # Just return top matching text chunks\n",
    "        return [chunk for chunk, score in results[:3]]\n",
    "    \n",
    "    elif mode == \"summarize\":\n",
    "        summarizer = pipeline(\"summarization\", model=\"t5-small\")\n",
    "        context_text = top_chunk[:500]\n",
    "        return summarizer(context_text, max_length=50, min_length=15, do_sample=False)[0]['summary_text']\n",
    "    \n",
    "    elif mode == \"qa\":\n",
    "        qa_pipeline = pipeline(\"question-answering\", model=\"distilbert-base-uncased-distilled-squad\")\n",
    "        answer = qa_pipeline(question=query, context=top_chunk)\n",
    "        return answer['answer']\n",
    "    \n",
    "    elif mode == \"keyword\":\n",
    "        keyword = query.lower()\n",
    "        matches = [chunk for chunk in chunks if keyword in chunk.lower()]\n",
    "        return matches if matches else \"No matches found.\"\n",
    "    \n",
    "    else:\n",
    "        return \"Unknown query mode.\"\n"
   ]
  },
  {
   "cell_type": "code",
   "execution_count": 11,
   "id": "5b56b4bc",
   "metadata": {},
   "outputs": [
    {
     "name": "stdout",
     "output_type": "stream",
     "text": [
      "Search mode:\n",
      "['Once upon a time in a small village, there was a boy named Sam who loved to explor e. Every day after school, Sam would go to the nearb y forest to disco ver new things. One afternoon, while walking along a narrow path, he found a shiny , golden key half-buried under some leaves. Curious, he picked it up and wonder ed what it might open. Sam decided to explor e deeper into the forest, hoping to ﬁnd a lock that matched his key. After walking for a while, he came across an old wooden door attached to a huge oak tree. The door look ed ancient and covered in vines, but to Sam ’s amaz ement, the golden key ﬁt perfectly into the lock. When he turned the key, the door creaked open slowly , revealing a hidden garden full of color ful ﬂowers and sparkling fountains. In the middle of the garden stood a beautiful old bench wher e an elderly woman sat, smiling warmly . She introduced herself as the guar dian of the secr et garden. The woman explained that the garden was magical and only appear ed to kind and curious hear ts like Sam ’s. She told him that anyone who cared for the garden would be rewar ded with happiness and the peacefulness of natur e. From that day on, Sam visited the garden often. He water ed the plants, fed the birds, and cleaned the paths. The garden grew more beautiful each day, and Sam felt happier than ever. He learned that sometimes, the greatest treasur es are found when you explor e with an open hear t.']\n",
      "\n",
      "Summarize mode:\n"
     ]
    },
    {
     "name": "stderr",
     "output_type": "stream",
     "text": [
      "Device set to use cpu\n",
      "Both `max_new_tokens` (=256) and `max_length`(=50) seem to have been set. `max_new_tokens` will take precedence. Please refer to the documentation for more information. (https://huggingface.co/docs/transformers/main/en/main_classes/text_generation)\n"
     ]
    },
    {
     "name": "stdout",
     "output_type": "stream",
     "text": [
      "a boy named Sam explored e every day after school, he would go to the nearb y forest to explore new things . he found a shiny golden key half-buried under some leaves . after walking for a while he came across an old wooden door attached .\n",
      "\n",
      "QA mode:\n"
     ]
    },
    {
     "name": "stderr",
     "output_type": "stream",
     "text": [
      "c:\\Users\\admin\\AppData\\Local\\Programs\\Python\\Python313\\Lib\\site-packages\\huggingface_hub\\file_download.py:143: UserWarning: `huggingface_hub` cache-system uses symlinks by default to efficiently store duplicated files but your machine does not support them in C:\\Users\\admin\\.cache\\huggingface\\hub\\models--distilbert-base-uncased-distilled-squad. Caching files will still work but in a degraded version that might require more space on your disk. This warning can be disabled by setting the `HF_HUB_DISABLE_SYMLINKS_WARNING` environment variable. For more details, see https://huggingface.co/docs/huggingface_hub/how-to-cache#limitations.\n",
      "To support symlinks on Windows, you either need to activate Developer Mode or to run Python as an administrator. In order to activate developer mode, see this article: https://docs.microsoft.com/en-us/windows/apps/get-started/enable-your-device-for-development\n",
      "  warnings.warn(message)\n",
      "Xet Storage is enabled for this repo, but the 'hf_xet' package is not installed. Falling back to regular HTTP download. For better performance, install the package with: `pip install huggingface_hub[hf_xet]` or `pip install hf_xet`\n",
      "Device set to use cpu\n"
     ]
    },
    {
     "name": "stdout",
     "output_type": "stream",
     "text": [
      "Sam ’s amaz ement\n",
      "\n",
      "Keyword mode:\n",
      "['Once upon a time in a small village, there was a boy named Sam who loved to explor e. Every day after school, Sam would go to the nearb y forest to disco ver new things. One afternoon, while walking along a narrow path, he found a shiny , golden key half-buried under some leaves. Curious, he picked it up and wonder ed what it might open. Sam decided to explor e deeper into the forest, hoping to ﬁnd a lock that matched his key. After walking for a while, he came across an old wooden door attached to a huge oak tree. The door look ed ancient and covered in vines, but to Sam ’s amaz ement, the golden key ﬁt perfectly into the lock. When he turned the key, the door creaked open slowly , revealing a hidden garden full of color ful ﬂowers and sparkling fountains. In the middle of the garden stood a beautiful old bench wher e an elderly woman sat, smiling warmly . She introduced herself as the guar dian of the secr et garden. The woman explained that the garden was magical and only appear ed to kind and curious hear ts like Sam ’s. She told him that anyone who cared for the garden would be rewar ded with happiness and the peacefulness of natur e. From that day on, Sam visited the garden often. He water ed the plants, fed the birds, and cleaned the paths. The garden grew more beautiful each day, and Sam felt happier than ever. He learned that sometimes, the greatest treasur es are found when you explor e with an open hear t.']\n"
     ]
    }
   ],
   "source": [
    "# Example queries\n",
    "print(\"Search mode:\")\n",
    "print(handle_query(\"forest\", embeddings, chunks, model, mode=\"search\"))\n",
    "\n",
    "print(\"\\nSummarize mode:\")\n",
    "print(handle_query(\"What is the main topic?\", embeddings, chunks, model, mode=\"summarize\"))\n",
    "\n",
    "print(\"\\nQA mode:\")\n",
    "print(handle_query(\"Who found the golden key?\", embeddings, chunks, model, mode=\"qa\"))\n",
    "\n",
    "print(\"\\nKeyword mode:\")\n",
    "print(handle_query(\"Sam\", embeddings, chunks, model, mode=\"keyword\"))\n",
    "\n"
   ]
  }
 ],
 "metadata": {
  "kernelspec": {
   "display_name": "Python 3",
   "language": "python",
   "name": "python3"
  },
  "language_info": {
   "codemirror_mode": {
    "name": "ipython",
    "version": 3
   },
   "file_extension": ".py",
   "mimetype": "text/x-python",
   "name": "python",
   "nbconvert_exporter": "python",
   "pygments_lexer": "ipython3",
   "version": "3.13.7"
  }
 },
 "nbformat": 4,
 "nbformat_minor": 5
}
